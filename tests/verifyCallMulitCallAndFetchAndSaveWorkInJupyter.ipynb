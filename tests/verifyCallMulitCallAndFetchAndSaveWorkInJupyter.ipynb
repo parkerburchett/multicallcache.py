{
 "cells": [
  {
   "cell_type": "code",
   "execution_count": null,
   "metadata": {
    "execution": {
     "iopub.execute_input": "2024-07-06T16:14:43.843191Z",
     "iopub.status.busy": "2024-07-06T16:14:43.840923Z",
     "iopub.status.idle": "2024-07-06T16:14:44.349985Z",
     "shell.execute_reply": "2024-07-06T16:14:44.349499Z"
    }
   },
   "outputs": [],
   "source": [
    "import pandas as pd\n",
    "from multicall.call import Call\n",
    "from multicall.fetch_multicall_across_blocks import fetch_save_and_return\n",
    "from multicall.constants import W3\n",
    "from helpers import TEST_CACHE_PATH, TEST_BLOCK\n",
    "\n",
    "\n",
    "def identity_function(x):\n",
    "    return x\n",
    "\n",
    "\n",
    "uniswap_v3_usdc_weth_pool = \"0x88e6A0c2dDD26FEEb64F039a2c41296FcB3f5640\"\n",
    "weth = \"0xC02aaA39b223FE8D0A0e5C4F27eAD9083C756Cc2\"\n",
    "usdc = \"0xA0b86991c6218b36c1d19D4a2e9Eb0cE3606eB48\"\n",
    "\n",
    "weth_bal = Call(\n",
    "    weth,\n",
    "    \"balanceOf(address)(uint256)\",\n",
    "    (uniswap_v3_usdc_weth_pool),\n",
    "    \"weth_bal\",\n",
    "    identity_function,\n",
    ")\n",
    "\n",
    "block_to_check = TEST_BLOCK"
   ]
  },
  {
   "cell_type": "markdown",
   "metadata": {},
   "source": [
    "# Call In Jupyter"
   ]
  },
  {
   "cell_type": "code",
   "execution_count": null,
   "metadata": {
    "execution": {
     "iopub.execute_input": "2024-07-06T16:14:44.352138Z",
     "iopub.status.busy": "2024-07-06T16:14:44.351896Z",
     "iopub.status.idle": "2024-07-06T16:14:44.354273Z",
     "shell.execute_reply": "2024-07-06T16:14:44.353951Z"
    }
   },
   "outputs": [],
   "source": [
    "from multicall.utils import time_function\n",
    "\n",
    "\n",
    "@time_function\n",
    "def a():\n",
    "    print(weth_bal(W3, block_to_check, cache=TEST_CACHE_PATH))"
   ]
  },
  {
   "cell_type": "code",
   "execution_count": null,
   "metadata": {
    "execution": {
     "iopub.execute_input": "2024-07-06T16:14:44.355764Z",
     "iopub.status.busy": "2024-07-06T16:14:44.355635Z",
     "iopub.status.idle": "2024-07-06T16:14:44.745940Z",
     "shell.execute_reply": "2024-07-06T16:14:44.745376Z"
    }
   },
   "outputs": [],
   "source": [
    "# first\n",
    "a()"
   ]
  },
  {
   "cell_type": "code",
   "execution_count": null,
   "metadata": {
    "execution": {
     "iopub.execute_input": "2024-07-06T16:14:44.767830Z",
     "iopub.status.busy": "2024-07-06T16:14:44.767615Z",
     "iopub.status.idle": "2024-07-06T16:14:44.770252Z",
     "shell.execute_reply": "2024-07-06T16:14:44.769931Z"
    }
   },
   "outputs": [],
   "source": [
    "# second\n",
    "a()"
   ]
  },
  {
   "cell_type": "markdown",
   "metadata": {},
   "source": [
    "# Test Mulitcall In jupyter"
   ]
  },
  {
   "cell_type": "code",
   "execution_count": null,
   "metadata": {
    "execution": {
     "iopub.execute_input": "2024-07-06T16:14:44.771896Z",
     "iopub.status.busy": "2024-07-06T16:14:44.771740Z",
     "iopub.status.idle": "2024-07-06T16:14:44.775420Z",
     "shell.execute_reply": "2024-07-06T16:14:44.775107Z"
    }
   },
   "outputs": [],
   "source": [
    "usdc_bal = Call(\n",
    "    usdc,\n",
    "    \"balanceOf(address)(uint256)\",\n",
    "    (uniswap_v3_usdc_weth_pool),\n",
    "    \"usdc_bal\",\n",
    "    identity_function,\n",
    ")\n",
    "\n",
    "from multicall.multicall import Multicall\n",
    "\n",
    "\n",
    "m = Multicall([weth_bal, usdc_bal])\n",
    "\n",
    "\n",
    "@time_function\n",
    "def b():\n",
    "    print(m(W3, block_to_check, cache=TEST_CACHE_PATH))"
   ]
  },
  {
   "cell_type": "code",
   "execution_count": null,
   "metadata": {
    "execution": {
     "iopub.execute_input": "2024-07-06T16:14:44.776991Z",
     "iopub.status.busy": "2024-07-06T16:14:44.776741Z",
     "iopub.status.idle": "2024-07-06T16:14:45.115019Z",
     "shell.execute_reply": "2024-07-06T16:14:45.114140Z"
    }
   },
   "outputs": [],
   "source": [
    "# first\n",
    "b()"
   ]
  },
  {
   "cell_type": "code",
   "execution_count": null,
   "metadata": {
    "execution": {
     "iopub.execute_input": "2024-07-06T16:14:45.118410Z",
     "iopub.status.busy": "2024-07-06T16:14:45.118127Z",
     "iopub.status.idle": "2024-07-06T16:14:45.125120Z",
     "shell.execute_reply": "2024-07-06T16:14:45.124806Z"
    }
   },
   "outputs": [],
   "source": [
    "# second\n",
    "b()"
   ]
  },
  {
   "cell_type": "markdown",
   "metadata": {},
   "source": [
    "# Test Fetch and Save\n"
   ]
  },
  {
   "cell_type": "code",
   "execution_count": null,
   "metadata": {
    "execution": {
     "iopub.execute_input": "2024-07-06T16:14:45.126784Z",
     "iopub.status.busy": "2024-07-06T16:14:45.126592Z",
     "iopub.status.idle": "2024-07-06T16:14:45.409536Z",
     "shell.execute_reply": "2024-07-06T16:14:45.409172Z"
    }
   },
   "outputs": [],
   "source": [
    "# first\n",
    "fetch_save_and_return(\n",
    "    [usdc_bal, weth_bal], [block_to_check - 1, block_to_check, block_to_check + 1], W3, cache=TEST_CACHE_PATH\n",
    ")"
   ]
  },
  {
   "cell_type": "code",
   "execution_count": null,
   "metadata": {
    "execution": {
     "iopub.execute_input": "2024-07-06T16:14:45.411276Z",
     "iopub.status.busy": "2024-07-06T16:14:45.411125Z",
     "iopub.status.idle": "2024-07-06T16:14:45.418780Z",
     "shell.execute_reply": "2024-07-06T16:14:45.418465Z"
    }
   },
   "outputs": [],
   "source": [
    "# second\n",
    "fetch_save_and_return(\n",
    "    [usdc_bal, weth_bal], [block_to_check - 1, block_to_check, block_to_check + 1], W3, cache=TEST_CACHE_PATH\n",
    ")"
   ]
  },
  {
   "cell_type": "code",
   "execution_count": null,
   "metadata": {
    "execution": {
     "iopub.execute_input": "2024-07-06T16:14:45.420437Z",
     "iopub.status.busy": "2024-07-06T16:14:45.420149Z",
     "iopub.status.idle": "2024-07-06T16:14:45.423167Z",
     "shell.execute_reply": "2024-07-06T16:14:45.422850Z"
    }
   },
   "outputs": [],
   "source": [
    "def norm_18(x):\n",
    "    return x / 1e18\n",
    "\n",
    "\n",
    "def norm_6(x):\n",
    "    return x / 6\n",
    "\n",
    "\n",
    "weth_bal_different_handle_function = Call(\n",
    "    weth,\n",
    "    \"balanceOf(address)(uint256)\",\n",
    "    (uniswap_v3_usdc_weth_pool),\n",
    "    \"weth_bal\",\n",
    "    norm_18,\n",
    ")\n",
    "\n",
    "\n",
    "usdc_bal_different_handle_function = Call(\n",
    "    usdc,\n",
    "    \"balanceOf(address)(uint256)\",\n",
    "    (uniswap_v3_usdc_weth_pool),\n",
    "    \"usdc_bal\",\n",
    "    norm_6,\n",
    ")"
   ]
  },
  {
   "cell_type": "code",
   "execution_count": null,
   "metadata": {
    "execution": {
     "iopub.execute_input": "2024-07-06T16:14:45.424751Z",
     "iopub.status.busy": "2024-07-06T16:14:45.424496Z",
     "iopub.status.idle": "2024-07-06T16:14:45.431849Z",
     "shell.execute_reply": "2024-07-06T16:14:45.431526Z"
    }
   },
   "outputs": [],
   "source": [
    "# third\n",
    "fetch_save_and_return(\n",
    "    [usdc_bal_different_handle_function, weth_bal],\n",
    "    [block_to_check - 1, block_to_check, block_to_check + 1],\n",
    "    W3,\n",
    "    cache=TEST_CACHE_PATH,\n",
    ")"
   ]
  },
  {
   "cell_type": "markdown",
   "metadata": {},
   "source": [
    "# Test with size,\n",
    "\n",
    "- Get the USDC, and WETH balance for 1_000 addresses\n",
    "- also get the get the addr.balanceOf(addr) for all the addresses\n",
    "\n",
    "- 1k blocks and 1k function calls, 1M points of state"
   ]
  },
  {
   "cell_type": "code",
   "execution_count": null,
   "metadata": {
    "execution": {
     "iopub.execute_input": "2024-07-06T16:14:45.433528Z",
     "iopub.status.busy": "2024-07-06T16:14:45.433281Z",
     "iopub.status.idle": "2024-07-06T16:14:45.435738Z",
     "shell.execute_reply": "2024-07-06T16:14:45.435423Z"
    }
   },
   "outputs": [],
   "source": [
    "1000 * 1000"
   ]
  },
  {
   "cell_type": "code",
   "execution_count": null,
   "metadata": {
    "execution": {
     "iopub.execute_input": "2024-07-06T16:14:45.437392Z",
     "iopub.status.busy": "2024-07-06T16:14:45.437145Z",
     "iopub.status.idle": "2024-07-06T16:14:45.746943Z",
     "shell.execute_reply": "2024-07-06T16:14:45.746485Z"
    }
   },
   "outputs": [],
   "source": [
    "df = pd.read_csv(\"../many_weth_transfers_more.csv\")\n",
    "all_tos = df[\"from\"].unique()[:1_000]\n",
    "len(all_tos)"
   ]
  },
  {
   "cell_type": "code",
   "execution_count": null,
   "metadata": {
    "execution": {
     "iopub.execute_input": "2024-07-06T16:14:45.748615Z",
     "iopub.status.busy": "2024-07-06T16:14:45.748476Z",
     "iopub.status.idle": "2024-07-06T16:14:46.039347Z",
     "shell.execute_reply": "2024-07-06T16:14:46.038907Z"
    }
   },
   "outputs": [],
   "source": [
    "calls = []\n",
    "for person in all_tos:\n",
    "    calls.append(Call(usdc, \"balanceOf(address)(uint256)\", (person), f\"{person}_USDC\", norm_6))\n",
    "    calls.append(Call(weth, \"balanceOf(address)(uint256)\", (person), f\"{person}_WETH\", norm_18))\n",
    "\n",
    "blocks = [18_000_000 + i * 100 for i in range(10)]\n",
    "len(calls), len(blocks)  # wide and narrow only 20k calls, 10 blocks"
   ]
  },
  {
   "cell_type": "code",
   "execution_count": null,
   "metadata": {
    "execution": {
     "iopub.execute_input": "2024-07-06T16:14:46.041088Z",
     "iopub.status.busy": "2024-07-06T16:14:46.040921Z",
     "iopub.status.idle": "2024-07-06T16:14:54.681733Z",
     "shell.execute_reply": "2024-07-06T16:14:54.681215Z"
    }
   },
   "outputs": [],
   "source": [
    "# first\n",
    "fetch_save_and_return(calls, blocks, W3, cache=TEST_CACHE_PATH)"
   ]
  },
  {
   "cell_type": "code",
   "execution_count": null,
   "metadata": {
    "execution": {
     "iopub.execute_input": "2024-07-06T16:14:54.683751Z",
     "iopub.status.busy": "2024-07-06T16:14:54.683575Z",
     "iopub.status.idle": "2024-07-06T16:14:55.593647Z",
     "shell.execute_reply": "2024-07-06T16:14:55.593147Z"
    }
   },
   "outputs": [],
   "source": [
    "# second\n",
    "fetch_save_and_return(calls, blocks, W3, cache=TEST_CACHE_PATH)"
   ]
  }
 ],
 "metadata": {
  "kernelspec": {
   "display_name": ".venv",
   "language": "python",
   "name": "python3"
  },
  "language_info": {
   "codemirror_mode": {
    "name": "ipython",
    "version": 3
   },
   "file_extension": ".py",
   "mimetype": "text/x-python",
   "name": "python",
   "nbconvert_exporter": "python",
   "pygments_lexer": "ipython3",
   "version": "3.10.12"
  }
 },
 "nbformat": 4,
 "nbformat_minor": 2
}
