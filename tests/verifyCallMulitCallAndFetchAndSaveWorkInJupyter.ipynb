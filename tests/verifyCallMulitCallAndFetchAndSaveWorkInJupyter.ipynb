{
 "cells": [
  {
   "cell_type": "code",
   "execution_count": null,
   "metadata": {
    "execution": {
     "iopub.execute_input": "2024-07-10T13:41:42.148351Z",
     "iopub.status.busy": "2024-07-10T13:41:42.148186Z",
     "iopub.status.idle": "2024-07-10T13:41:42.639155Z",
     "shell.execute_reply": "2024-07-10T13:41:42.637514Z"
    }
   },
   "outputs": [],
   "source": [
    "import pandas as pd\n",
    "from multicall.call import Call\n",
    "from multicall.fetch_multicall_across_blocks import fetch_save_and_return\n",
    "from multicall.constants import W3\n",
    "from helpers import TEST_CACHE_PATH, TEST_BLOCK\n",
    "\n",
    "\n",
    "def identity_function(x):\n",
    "    return x\n",
    "\n",
    "\n",
    "uniswap_v3_usdc_weth_pool = \"0x88e6A0c2dDD26FEEb64F039a2c41296FcB3f5640\"\n",
    "weth = \"0xC02aaA39b223FE8D0A0e5C4F27eAD9083C756Cc2\"\n",
    "usdc = \"0xA0b86991c6218b36c1d19D4a2e9Eb0cE3606eB48\"\n",
    "\n",
    "weth_bal = Call(weth, \"balanceOf(address)(uint256)\", (uniswap_v3_usdc_weth_pool), \"weth_bal\", identity_function, W3)\n",
    "\n",
    "block_to_check = TEST_BLOCK"
   ]
  },
  {
   "cell_type": "markdown",
   "metadata": {},
   "source": [
    "# Call In Jupyter"
   ]
  },
  {
   "cell_type": "code",
   "execution_count": null,
   "metadata": {
    "execution": {
     "iopub.execute_input": "2024-07-10T13:41:42.645489Z",
     "iopub.status.busy": "2024-07-10T13:41:42.644915Z",
     "iopub.status.idle": "2024-07-10T13:41:42.649898Z",
     "shell.execute_reply": "2024-07-10T13:41:42.649145Z"
    }
   },
   "outputs": [],
   "source": [
    "from multicall.utils import time_function\n",
    "\n",
    "\n",
    "@time_function\n",
    "def a():\n",
    "    print(weth_bal(block_to_check, cache=TEST_CACHE_PATH))"
   ]
  },
  {
   "cell_type": "code",
   "execution_count": null,
   "metadata": {
    "execution": {
     "iopub.execute_input": "2024-07-10T13:41:42.652354Z",
     "iopub.status.busy": "2024-07-10T13:41:42.652210Z",
     "iopub.status.idle": "2024-07-10T13:41:43.207271Z",
     "shell.execute_reply": "2024-07-10T13:41:43.206625Z"
    }
   },
   "outputs": [],
   "source": [
    "# first\n",
    "a()"
   ]
  },
  {
   "cell_type": "code",
   "execution_count": null,
   "metadata": {
    "execution": {
     "iopub.execute_input": "2024-07-10T13:41:43.230380Z",
     "iopub.status.busy": "2024-07-10T13:41:43.230185Z",
     "iopub.status.idle": "2024-07-10T13:41:43.233083Z",
     "shell.execute_reply": "2024-07-10T13:41:43.232717Z"
    }
   },
   "outputs": [],
   "source": [
    "# second\n",
    "a()"
   ]
  },
  {
   "cell_type": "markdown",
   "metadata": {},
   "source": [
    "# Test Mulitcall In jupyter"
   ]
  },
  {
   "cell_type": "code",
   "execution_count": null,
   "metadata": {
    "execution": {
     "iopub.execute_input": "2024-07-10T13:41:43.234919Z",
     "iopub.status.busy": "2024-07-10T13:41:43.234633Z",
     "iopub.status.idle": "2024-07-10T13:41:43.238206Z",
     "shell.execute_reply": "2024-07-10T13:41:43.237899Z"
    }
   },
   "outputs": [],
   "source": [
    "usdc_bal = Call(usdc, \"balanceOf(address)(uint256)\", (uniswap_v3_usdc_weth_pool), \"usdc_bal\", identity_function, W3)\n",
    "\n",
    "from multicall.multicall import Multicall\n",
    "\n",
    "\n",
    "m = Multicall([weth_bal, usdc_bal])\n",
    "\n",
    "\n",
    "@time_function\n",
    "def b():\n",
    "    print(m(block_to_check, cache=TEST_CACHE_PATH))"
   ]
  },
  {
   "cell_type": "code",
   "execution_count": null,
   "metadata": {
    "execution": {
     "iopub.execute_input": "2024-07-10T13:41:43.239837Z",
     "iopub.status.busy": "2024-07-10T13:41:43.239644Z",
     "iopub.status.idle": "2024-07-10T13:41:43.607461Z",
     "shell.execute_reply": "2024-07-10T13:41:43.607050Z"
    }
   },
   "outputs": [],
   "source": [
    "# first\n",
    "b()"
   ]
  },
  {
   "cell_type": "code",
   "execution_count": null,
   "metadata": {
    "execution": {
     "iopub.execute_input": "2024-07-10T13:41:43.609352Z",
     "iopub.status.busy": "2024-07-10T13:41:43.609181Z",
     "iopub.status.idle": "2024-07-10T13:41:43.614744Z",
     "shell.execute_reply": "2024-07-10T13:41:43.614425Z"
    }
   },
   "outputs": [],
   "source": [
    "# second\n",
    "b()"
   ]
  },
  {
   "cell_type": "markdown",
   "metadata": {},
   "source": [
    "# Test Fetch and Save\n"
   ]
  },
  {
   "cell_type": "code",
   "execution_count": null,
   "metadata": {
    "execution": {
     "iopub.execute_input": "2024-07-10T13:41:43.616504Z",
     "iopub.status.busy": "2024-07-10T13:41:43.616255Z",
     "iopub.status.idle": "2024-07-10T13:41:43.800304Z",
     "shell.execute_reply": "2024-07-10T13:41:43.799906Z"
    }
   },
   "outputs": [],
   "source": [
    "# first\n",
    "fetch_save_and_return(\n",
    "    [usdc_bal, weth_bal], [block_to_check - 1, block_to_check, block_to_check + 1], W3, cache=TEST_CACHE_PATH\n",
    ")"
   ]
  },
  {
   "cell_type": "code",
   "execution_count": null,
   "metadata": {
    "execution": {
     "iopub.execute_input": "2024-07-10T13:41:43.802488Z",
     "iopub.status.busy": "2024-07-10T13:41:43.802282Z",
     "iopub.status.idle": "2024-07-10T13:41:43.811146Z",
     "shell.execute_reply": "2024-07-10T13:41:43.810820Z"
    }
   },
   "outputs": [],
   "source": [
    "# second\n",
    "fetch_save_and_return(\n",
    "    [usdc_bal, weth_bal], [block_to_check - 1, block_to_check, block_to_check + 1], W3, cache=TEST_CACHE_PATH\n",
    ")"
   ]
  },
  {
   "cell_type": "code",
   "execution_count": null,
   "metadata": {
    "execution": {
     "iopub.execute_input": "2024-07-10T13:41:43.812878Z",
     "iopub.status.busy": "2024-07-10T13:41:43.812611Z",
     "iopub.status.idle": "2024-07-10T13:41:43.815569Z",
     "shell.execute_reply": "2024-07-10T13:41:43.815263Z"
    }
   },
   "outputs": [],
   "source": [
    "def norm_18(x):\n",
    "    return x / 1e18\n",
    "\n",
    "\n",
    "def norm_6(x):\n",
    "    return x / 6\n",
    "\n",
    "\n",
    "weth_bal_different_handle_function = Call(\n",
    "    weth, \"balanceOf(address)(uint256)\", (uniswap_v3_usdc_weth_pool), \"weth_bal\", norm_18, W3\n",
    ")\n",
    "\n",
    "\n",
    "usdc_bal_different_handle_function = Call(\n",
    "    usdc, \"balanceOf(address)(uint256)\", (uniswap_v3_usdc_weth_pool), \"usdc_bal\", norm_6, W3\n",
    ")"
   ]
  },
  {
   "cell_type": "code",
   "execution_count": null,
   "metadata": {
    "execution": {
     "iopub.execute_input": "2024-07-10T13:41:43.817254Z",
     "iopub.status.busy": "2024-07-10T13:41:43.817023Z",
     "iopub.status.idle": "2024-07-10T13:41:43.824386Z",
     "shell.execute_reply": "2024-07-10T13:41:43.824083Z"
    }
   },
   "outputs": [],
   "source": [
    "# third\n",
    "fetch_save_and_return(\n",
    "    [usdc_bal_different_handle_function, weth_bal],\n",
    "    [block_to_check - 1, block_to_check, block_to_check + 1],\n",
    "    W3,\n",
    "    cache=TEST_CACHE_PATH,\n",
    ")"
   ]
  },
  {
   "cell_type": "markdown",
   "metadata": {},
   "source": [
    "# Test with size\n",
    "\n",
    "- Get the USDC, and WETH balance for 1_000 addresses\n",
    "- also get the get the addr.balanceOf(addr) for all the addresses\n",
    "\n",
    "- 1k blocks and 1k function calls, 1M points of state"
   ]
  },
  {
   "cell_type": "code",
   "execution_count": null,
   "metadata": {
    "execution": {
     "iopub.execute_input": "2024-07-10T13:41:43.826115Z",
     "iopub.status.busy": "2024-07-10T13:41:43.825922Z",
     "iopub.status.idle": "2024-07-10T13:41:44.170182Z",
     "shell.execute_reply": "2024-07-10T13:41:44.169721Z"
    }
   },
   "outputs": [],
   "source": [
    "df = pd.read_csv(\"../many_weth_transfers_more.csv\")\n",
    "all_tos = df[\"from\"].unique()[:1_000]\n",
    "len(all_tos)"
   ]
  },
  {
   "cell_type": "code",
   "execution_count": null,
   "metadata": {
    "execution": {
     "iopub.execute_input": "2024-07-10T13:41:44.172390Z",
     "iopub.status.busy": "2024-07-10T13:41:44.172240Z",
     "iopub.status.idle": "2024-07-10T13:41:44.476586Z",
     "shell.execute_reply": "2024-07-10T13:41:44.476176Z"
    }
   },
   "outputs": [],
   "source": [
    "calls = []\n",
    "for person in all_tos:\n",
    "    calls.append(Call(usdc, \"balanceOf(address)(uint256)\", (person), f\"{person}_USDC\", norm_6, W3))\n",
    "    calls.append(Call(weth, \"balanceOf(address)(uint256)\", (person), f\"{person}_WETH\", norm_18, W3))\n",
    "\n",
    "blocks = [18_000_000 + i * 100 for i in range(10)]\n",
    "len(calls), len(blocks)"
   ]
  },
  {
   "cell_type": "code",
   "execution_count": null,
   "metadata": {
    "execution": {
     "iopub.execute_input": "2024-07-10T13:41:44.478336Z",
     "iopub.status.busy": "2024-07-10T13:41:44.478198Z",
     "iopub.status.idle": "2024-07-10T13:41:53.371571Z",
     "shell.execute_reply": "2024-07-10T13:41:53.371124Z"
    }
   },
   "outputs": [],
   "source": [
    "# first\n",
    "fetch_save_and_return(calls, blocks, W3, cache=TEST_CACHE_PATH)"
   ]
  },
  {
   "cell_type": "code",
   "execution_count": null,
   "metadata": {
    "execution": {
     "iopub.execute_input": "2024-07-10T13:41:53.374414Z",
     "iopub.status.busy": "2024-07-10T13:41:53.374213Z",
     "iopub.status.idle": "2024-07-10T13:41:54.343946Z",
     "shell.execute_reply": "2024-07-10T13:41:54.343475Z"
    }
   },
   "outputs": [],
   "source": [
    "# second\n",
    "fetch_save_and_return(calls, blocks, W3, cache=TEST_CACHE_PATH)"
   ]
  }
 ],
 "metadata": {
  "kernelspec": {
   "display_name": ".venv",
   "language": "python",
   "name": "python3"
  },
  "language_info": {
   "codemirror_mode": {
    "name": "ipython",
    "version": 3
   },
   "file_extension": ".py",
   "mimetype": "text/x-python",
   "name": "python",
   "nbconvert_exporter": "python",
   "pygments_lexer": "ipython3",
   "version": "3.10.12"
  }
 },
 "nbformat": 4,
 "nbformat_minor": 2
}
