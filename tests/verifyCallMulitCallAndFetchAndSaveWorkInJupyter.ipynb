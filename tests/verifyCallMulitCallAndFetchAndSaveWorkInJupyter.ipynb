{
 "cells": [
  {
   "cell_type": "code",
   "execution_count": 1,
   "metadata": {},
   "outputs": [],
   "source": [
    "import pandas as pd\n",
    "from multicall.call import Call\n",
    "from multicall.fetch_multicall_across_blocks import fetch_save_and_return, CACHE_PATH\n",
    "from multicall.constants import W3\n",
    "from multicall.cache import create_db, fetch_all_data\n",
    "import sqlite3\n",
    "\n",
    "\n",
    "def identity_function(x):\n",
    "    return x\n",
    "\n",
    "\n",
    "uniswap_v3_usdc_weth_pool = \"0x88e6A0c2dDD26FEEb64F039a2c41296FcB3f5640\"\n",
    "weth = \"0xC02aaA39b223FE8D0A0e5C4F27eAD9083C756Cc2\"\n",
    "usdc = \"0xA0b86991c6218b36c1d19D4a2e9Eb0cE3606eB48\"\n",
    "\n",
    "weth_bal = Call(\n",
    "    weth,\n",
    "    \"balanceOf(address)(uint256)\",\n",
    "    (uniswap_v3_usdc_weth_pool),\n",
    "    \"weth_bal\",\n",
    "    identity_function,\n",
    ")\n",
    "import random\n",
    "\n",
    "block_to_check = random.randint(12336033, 20_000_000)"
   ]
  },
  {
   "cell_type": "markdown",
   "metadata": {},
   "source": [
    "# Call In Jupyter"
   ]
  },
  {
   "cell_type": "code",
   "execution_count": 6,
   "metadata": {},
   "outputs": [],
   "source": [
    "from multicall.utils import time_function\n",
    "\n",
    "\n",
    "@time_function\n",
    "def a():\n",
    "    print(weth_bal(W3, block_to_check))"
   ]
  },
  {
   "cell_type": "code",
   "execution_count": 8,
   "metadata": {},
   "outputs": [],
   "source": [
    "# first\n",
    "a()"
   ]
  },
  {
   "cell_type": "code",
   "execution_count": null,
   "metadata": {},
   "outputs": [],
   "source": [
    "# second\n",
    "a()"
   ]
  },
  {
   "cell_type": "markdown",
   "metadata": {},
   "source": [
    "# Test Mulitcall In jupyter"
   ]
  },
  {
   "cell_type": "code",
   "execution_count": null,
   "metadata": {},
   "outputs": [],
   "source": [
    "usdc_bal = Call(\n",
    "    usdc,\n",
    "    \"balanceOf(address)(uint256)\",\n",
    "    (uniswap_v3_usdc_weth_pool),\n",
    "    \"usdc_bal\",\n",
    "    identity_function,\n",
    ")\n",
    "\n",
    "from multicall.multicall import Multicall\n",
    "\n",
    "\n",
    "m = Multicall([weth_bal, usdc_bal])\n",
    "\n",
    "\n",
    "@time_function\n",
    "def b():\n",
    "    print(m(W3, block_to_check))"
   ]
  },
  {
   "cell_type": "code",
   "execution_count": null,
   "metadata": {},
   "outputs": [],
   "source": [
    "# first\n",
    "b()"
   ]
  },
  {
   "cell_type": "code",
   "execution_count": null,
   "metadata": {},
   "outputs": [],
   "source": [
    "# second\n",
    "b()"
   ]
  },
  {
   "cell_type": "markdown",
   "metadata": {},
   "source": [
    "# Test Fetch and Save\n"
   ]
  },
  {
   "cell_type": "code",
   "execution_count": null,
   "metadata": {},
   "outputs": [],
   "source": [
    "# first\n",
    "fetch_save_and_return([usdc_bal, weth_bal], [block_to_check - 1, block_to_check, block_to_check + 1], W3)"
   ]
  },
  {
   "cell_type": "code",
   "execution_count": null,
   "metadata": {},
   "outputs": [],
   "source": [
    "# second\n",
    "fetch_save_and_return([usdc_bal, weth_bal], [block_to_check - 1, block_to_check, block_to_check + 1], W3)"
   ]
  },
  {
   "cell_type": "code",
   "execution_count": null,
   "metadata": {},
   "outputs": [],
   "source": [
    "def norm_18(x):\n",
    "    return x / 1e18\n",
    "\n",
    "\n",
    "def norm_6(x):\n",
    "    return x / 6\n",
    "\n",
    "\n",
    "weth_bal_different_handle_function = Call(\n",
    "    weth,\n",
    "    \"balanceOf(address)(uint256)\",\n",
    "    (uniswap_v3_usdc_weth_pool),\n",
    "    \"weth_bal\",\n",
    "    norm_18,\n",
    ")\n",
    "\n",
    "\n",
    "usdc_bal_different_handle_function = Call(\n",
    "    usdc,\n",
    "    \"balanceOf(address)(uint256)\",\n",
    "    (uniswap_v3_usdc_weth_pool),\n",
    "    \"usdc_bal\",\n",
    "    norm_6,\n",
    ")"
   ]
  },
  {
   "cell_type": "code",
   "execution_count": null,
   "metadata": {},
   "outputs": [],
   "source": [
    "# third\n",
    "fetch_save_and_return(\n",
    "    [usdc_bal_different_handle_function, weth_bal], [block_to_check - 1, block_to_check, block_to_check + 1], W3\n",
    ")"
   ]
  },
  {
   "cell_type": "markdown",
   "metadata": {},
   "source": [
    "# Test with size,\n",
    "\n",
    "- Get the USDC, and WETH balance for 1_000 addresses\n",
    "- also get the get the addr.balanceOf(addr) for all the addresses\n",
    "\n",
    "- 1k blocks and 1k function calls, 1M points of state"
   ]
  },
  {
   "cell_type": "code",
   "execution_count": null,
   "metadata": {},
   "outputs": [],
   "source": [
    "1000 * 1000"
   ]
  },
  {
   "cell_type": "code",
   "execution_count": null,
   "metadata": {},
   "outputs": [],
   "source": [
    "df = pd.read_csv(\"../many_weth_transfers_more.csv\")\n",
    "all_tos = df[\"from\"].unique()[:10_000]\n",
    "len(all_tos)"
   ]
  },
  {
   "cell_type": "code",
   "execution_count": null,
   "metadata": {},
   "outputs": [],
   "source": [
    "calls = []\n",
    "for person in all_tos:\n",
    "    calls.append(Call(usdc, \"balanceOf(address)(uint256)\", (person), f\"{person}_USDC\", norm_6))\n",
    "    calls.append(Call(weth, \"balanceOf(address)(uint256)\", (person), f\"{person}_WETH\", norm_18))\n",
    "\n",
    "blocks = [18_000_000 + i * 100 for i in range(10)]\n",
    "len(calls), len(blocks)  # wide and narrow only 20k calls, 10 blocks"
   ]
  },
  {
   "cell_type": "code",
   "execution_count": null,
   "metadata": {},
   "outputs": [],
   "source": [
    "# first\n",
    "fetch_save_and_return(calls, blocks, W3)  # todo"
   ]
  },
  {
   "cell_type": "code",
   "execution_count": null,
   "metadata": {},
   "outputs": [],
   "source": [
    "# second\n",
    "fetch_save_and_return(calls, blocks, W3)"
   ]
  }
 ],
 "metadata": {
  "kernelspec": {
   "display_name": ".venv",
   "language": "python",
   "name": "python3"
  },
  "language_info": {
   "codemirror_mode": {
    "name": "ipython",
    "version": 3
   },
   "file_extension": ".py",
   "mimetype": "text/x-python",
   "name": "python",
   "nbconvert_exporter": "python",
   "pygments_lexer": "ipython3",
   "version": "3.10.12"
  }
 },
 "nbformat": 4,
 "nbformat_minor": 2
}
