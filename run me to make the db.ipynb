{
 "cells": [
  {
   "cell_type": "code",
   "execution_count": 4,
   "metadata": {},
   "outputs": [
    {
     "data": {
      "text/plain": [
       "<web3.main.Web3 at 0x7f93da95ac20>"
      ]
     },
     "execution_count": 4,
     "metadata": {},
     "output_type": "execute_result"
    }
   ],
   "source": [
    "from dotenv import load_dotenv\n",
    "import pytest\n",
    "from web3 import Web3\n",
    "import web3\n",
    "from multicall.call import Call, NOT_A_CONTRACT_REVERT_MESSAGE\n",
    "from multicall.cache import fetch_all_data\n",
    "import os\n",
    "\n",
    "load_dotenv()\n",
    "\n",
    "BLOCK_TO_CHECK = 18_000_000\n",
    "w3 = Web3(Web3.HTTPProvider(os.environ.get(\"ALCHEMY_URL\")))\n",
    "w3"
   ]
  },
  {
   "cell_type": "code",
   "execution_count": 5,
   "metadata": {},
   "outputs": [],
   "source": [
    "# df = fetch_all_data()\n",
    "# df"
   ]
  },
  {
   "cell_type": "code",
   "execution_count": 6,
   "metadata": {},
   "outputs": [],
   "source": [
    "# df[df[\"target\"] == \"0xC02aaA39b223FE8D0A0e5C4F27eAD9083C756Cc2\"][\"success\"]"
   ]
  },
  {
   "cell_type": "code",
   "execution_count": 7,
   "metadata": {},
   "outputs": [
    {
     "data": {
      "text/plain": [
       "19989960"
      ]
     },
     "execution_count": 7,
     "metadata": {},
     "output_type": "execute_result"
    }
   ],
   "source": [
    "highest_finalized_block = w3.eth.get_block(block_identifier=\"finalized\", full_transactions=False)[\"number\"]\n",
    "# only cache things that have been finalized\n",
    "highest_finalized_block"
   ]
  },
  {
   "cell_type": "code",
   "execution_count": 8,
   "metadata": {},
   "outputs": [],
   "source": [
    "import sqlite3\n",
    "from multicall.call import Call\n",
    "\n",
    "CACHE_PATH = \"/home/parker/Documents/github/multicallcache.py/multicall/multicallcache.sqlite\"\n",
    "\n",
    "if os.path.exists(CACHE_PATH):\n",
    "    os.remove(CACHE_PATH)\n",
    "\n",
    "conn = sqlite3.connect(CACHE_PATH)\n",
    "\n",
    "cursor = conn.cursor()\n",
    "\n",
    "# Create the multicallCache table\n",
    "# Ensure callId is a primary key for quick lookups\n",
    "cursor.execute(\n",
    "    \"\"\"\n",
    "CREATE TABLE IF NOT EXISTS multicallCache (\n",
    "    callId BLOB PRIMARY KEY,\n",
    "    target TEXT,\n",
    "    signature TEXT,\n",
    "    argumentsAsStr TEXT,\n",
    "    argumentsAsPickle bytes,\n",
    "    block INTEGER,\n",
    "    chainId INTEGER,\n",
    "    success BOOLEAN,\n",
    "    response BLOB\n",
    ")\n",
    "\"\"\"\n",
    ")\n",
    "\n",
    "conn.commit()\n",
    "\n",
    "cursor.execute(\"SELECT * FROM multicallCache WHERE callId = ?\", (\"exampleCallId\",))\n",
    "result = cursor.fetchone()\n",
    "conn.close()"
   ]
  },
  {
   "cell_type": "code",
   "execution_count": 10,
   "metadata": {},
   "outputs": [
    {
     "data": {
      "text/plain": [
       "[('multicallCache',)]"
      ]
     },
     "execution_count": 10,
     "metadata": {},
     "output_type": "execute_result"
    }
   ],
   "source": [
    "conn = sqlite3.connect(CACHE_PATH)\n",
    "\n",
    "cursor = conn.cursor()\n",
    "cursor.execute(\"SELECT name FROM sqlite_master WHERE type='table'\")\n",
    "tables = cursor.fetchall()\n",
    "conn.close()\n",
    "tables"
   ]
  },
  {
   "cell_type": "code",
   "execution_count": null,
   "metadata": {},
   "outputs": [],
   "source": []
  }
 ],
 "metadata": {
  "kernelspec": {
   "display_name": ".venv",
   "language": "python",
   "name": "python3"
  },
  "language_info": {
   "codemirror_mode": {
    "name": "ipython",
    "version": 3
   },
   "file_extension": ".py",
   "mimetype": "text/x-python",
   "name": "python",
   "nbconvert_exporter": "python",
   "pygments_lexer": "ipython3",
   "version": "3.10.12"
  }
 },
 "nbformat": 4,
 "nbformat_minor": 2
}
